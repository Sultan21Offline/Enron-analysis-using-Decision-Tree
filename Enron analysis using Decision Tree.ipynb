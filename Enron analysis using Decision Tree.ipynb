{
 "cells": [
  {
   "cell_type": "code",
   "execution_count": 1,
   "metadata": {},
   "outputs": [],
   "source": [
    "import csv\n",
    "import numpy as np\n",
    "from numpy import *\n",
    "import pandas as pd"
   ]
  },
  {
   "cell_type": "code",
   "execution_count": 2,
   "metadata": {},
   "outputs": [
    {
     "name": "stdout",
     "output_type": "stream",
     "text": [
      "(517401, 2)\n"
     ]
    },
    {
     "data": {
      "text/html": [
       "<div>\n",
       "<style scoped>\n",
       "    .dataframe tbody tr th:only-of-type {\n",
       "        vertical-align: middle;\n",
       "    }\n",
       "\n",
       "    .dataframe tbody tr th {\n",
       "        vertical-align: top;\n",
       "    }\n",
       "\n",
       "    .dataframe thead th {\n",
       "        text-align: right;\n",
       "    }\n",
       "</style>\n",
       "<table border=\"1\" class=\"dataframe\">\n",
       "  <thead>\n",
       "    <tr style=\"text-align: right;\">\n",
       "      <th></th>\n",
       "      <th>file</th>\n",
       "      <th>message</th>\n",
       "    </tr>\n",
       "  </thead>\n",
       "  <tbody>\n",
       "    <tr>\n",
       "      <td>0</td>\n",
       "      <td>allen-p/_sent_mail/1.</td>\n",
       "      <td>Message-ID: &lt;18782981.1075855378110.JavaMail.e...</td>\n",
       "    </tr>\n",
       "    <tr>\n",
       "      <td>1</td>\n",
       "      <td>allen-p/_sent_mail/10.</td>\n",
       "      <td>Message-ID: &lt;15464986.1075855378456.JavaMail.e...</td>\n",
       "    </tr>\n",
       "    <tr>\n",
       "      <td>2</td>\n",
       "      <td>allen-p/_sent_mail/100.</td>\n",
       "      <td>Message-ID: &lt;24216240.1075855687451.JavaMail.e...</td>\n",
       "    </tr>\n",
       "    <tr>\n",
       "      <td>3</td>\n",
       "      <td>allen-p/_sent_mail/1000.</td>\n",
       "      <td>Message-ID: &lt;13505866.1075863688222.JavaMail.e...</td>\n",
       "    </tr>\n",
       "    <tr>\n",
       "      <td>4</td>\n",
       "      <td>allen-p/_sent_mail/1001.</td>\n",
       "      <td>Message-ID: &lt;30922949.1075863688243.JavaMail.e...</td>\n",
       "    </tr>\n",
       "    <tr>\n",
       "      <td>...</td>\n",
       "      <td>...</td>\n",
       "      <td>...</td>\n",
       "    </tr>\n",
       "    <tr>\n",
       "      <td>517396</td>\n",
       "      <td>zufferli-j/sent_items/95.</td>\n",
       "      <td>Message-ID: &lt;26807948.1075842029936.JavaMail.e...</td>\n",
       "    </tr>\n",
       "    <tr>\n",
       "      <td>517397</td>\n",
       "      <td>zufferli-j/sent_items/96.</td>\n",
       "      <td>Message-ID: &lt;25835861.1075842029959.JavaMail.e...</td>\n",
       "    </tr>\n",
       "    <tr>\n",
       "      <td>517398</td>\n",
       "      <td>zufferli-j/sent_items/97.</td>\n",
       "      <td>Message-ID: &lt;28979867.1075842029988.JavaMail.e...</td>\n",
       "    </tr>\n",
       "    <tr>\n",
       "      <td>517399</td>\n",
       "      <td>zufferli-j/sent_items/98.</td>\n",
       "      <td>Message-ID: &lt;22052556.1075842030013.JavaMail.e...</td>\n",
       "    </tr>\n",
       "    <tr>\n",
       "      <td>517400</td>\n",
       "      <td>zufferli-j/sent_items/99.</td>\n",
       "      <td>Message-ID: &lt;28618979.1075842030037.JavaMail.e...</td>\n",
       "    </tr>\n",
       "  </tbody>\n",
       "</table>\n",
       "<p>517401 rows × 2 columns</p>\n",
       "</div>"
      ],
      "text/plain": [
       "                             file  \\\n",
       "0           allen-p/_sent_mail/1.   \n",
       "1          allen-p/_sent_mail/10.   \n",
       "2         allen-p/_sent_mail/100.   \n",
       "3        allen-p/_sent_mail/1000.   \n",
       "4        allen-p/_sent_mail/1001.   \n",
       "...                           ...   \n",
       "517396  zufferli-j/sent_items/95.   \n",
       "517397  zufferli-j/sent_items/96.   \n",
       "517398  zufferli-j/sent_items/97.   \n",
       "517399  zufferli-j/sent_items/98.   \n",
       "517400  zufferli-j/sent_items/99.   \n",
       "\n",
       "                                                  message  \n",
       "0       Message-ID: <18782981.1075855378110.JavaMail.e...  \n",
       "1       Message-ID: <15464986.1075855378456.JavaMail.e...  \n",
       "2       Message-ID: <24216240.1075855687451.JavaMail.e...  \n",
       "3       Message-ID: <13505866.1075863688222.JavaMail.e...  \n",
       "4       Message-ID: <30922949.1075863688243.JavaMail.e...  \n",
       "...                                                   ...  \n",
       "517396  Message-ID: <26807948.1075842029936.JavaMail.e...  \n",
       "517397  Message-ID: <25835861.1075842029959.JavaMail.e...  \n",
       "517398  Message-ID: <28979867.1075842029988.JavaMail.e...  \n",
       "517399  Message-ID: <22052556.1075842030013.JavaMail.e...  \n",
       "517400  Message-ID: <28618979.1075842030037.JavaMail.e...  \n",
       "\n",
       "[517401 rows x 2 columns]"
      ]
     },
     "execution_count": 2,
     "metadata": {},
     "output_type": "execute_result"
    }
   ],
   "source": [
    "emails_data = pd.read_csv('file:///Users/sultangalymjanuly/Desktop/PythonFINAL/emails.csv')\n",
    "print(emails_data.shape)\n",
    "emails_data"
   ]
  },
  {
   "cell_type": "code",
   "execution_count": 14,
   "metadata": {},
   "outputs": [],
   "source": [
    "import PyPDF2 \n",
    "  \n",
    "# creating a pdf file object \n",
    "pdfFileObj = open('/Users/sultangalymjanuly/Desktop/PythonFINAL/enron61702insiderpay.pdf', 'rb') \n",
    "  \n",
    "# creating a pdf reader object \n",
    "pdfReader = PyPDF2.PdfFileReader(pdfFileObj) "
   ]
  },
  {
   "cell_type": "code",
   "execution_count": 15,
   "metadata": {},
   "outputs": [
    {
     "name": "stdout",
     "output_type": "stream",
     "text": [
      "10\n"
     ]
    }
   ],
   "source": [
    "print(pdfReader.numPages)"
   ]
  },
  {
   "cell_type": "code",
   "execution_count": 16,
   "metadata": {},
   "outputs": [],
   "source": [
    "pageObj = pdfReader.getPage(0) "
   ]
  },
  {
   "cell_type": "code",
   "execution_count": 17,
   "metadata": {},
   "outputs": [
    {
     "name": "stdout",
     "output_type": "stream",
     "text": [
      "In re:   Enron Corp.Case No. 01-16034Payments to InsidersSummary Schedule of all Debtors CombinedEXHIBIT 3b.2PaymentsStock Value  (13)InsiderSalary  (1)Bonus  (2)Long Term Incentive  (3)Deferred Income  (4)Deferral Payments  (5)Loan Advances  (6)Other  (7)Expenses  (8)Director Fees  (9)Total PaymentsExercised Stock Options  (10)Restricted Stock  (11)Restricted Stock Deferred  (12)Total Stock ValueALLEN, PHILLIP K$201,955$4,175,000$304,805($3,081,055)$2,869,717- $152$13,868- $4,484,442$1,729,541$126,027($126,027)$1,729,541BADUM, JAMES P-                        -                        -                        -                        178,980             -                        -                        3,486                 -                        182,466               257,817             -                          -                          257,817               BANNANTINE, JAMES M477                    -                        -                        (5,104)               -                        -                        864,523             (h)56,301               -                        916,197               4,046,157          1,757,552            (560,222)              5,243,487            BAXTER, JOHN C                  (a)267,102             1,200,000          1,586,055          (1,386,055)         1,295,738          -                        2,660,303          11,200               -                        5,634,343            6,680,544          3,942,714            -                          10,623,258          BAY, FRANKLIN R239,671             400,000             -                        (201,641)            260,455             -                        69                      129,142             -                        827,696               -                        145,796               (82,782)                63,014                 BAZELIDES, PHILIP J80,818               -                        93,750               -                        684,694             -                        874                    -                        -                        860,136               1,599,641          -                          -                          1,599,641            BECK, SALLY W231,330             700,000             -                        -                        -                        -                        566                    37,172               -                        969,068               -                        126,027               -                          126,027               BELDEN, TIMOTHY N213,999             5,249,999          -                        (2,334,434)         2,144,013          -                        210,698             17,355               -                        5,501,630            953,136             157,569               -                          1,110,705            BELFER, ROBERT A-                        -                        -                        (102,500)            -                        -                        -                        3,285                 102,500             3,285                   -                        44,093                 (44,093)                -                          BERBERIAN, DAVID216,582             -                        -                        -                        -                        -                        -                        11,892               -                        228,474               1,624,396          869,220               -                          2,493,616            BERGSIEKER, RICHARD P187,922             250,000             180,250             (485,813)            -                        -                        427,316             (h)59,175               -                        618,850               -                        659,249               -                          659,249               BHATNAGAR, SANJAY-                        -                        -                        -                        -                        -                        137,864             -                        137,864               15,456,290        2,604,490            (2,604,490)           15,456,290          BIBI, PHILIPPE A213,625             1,000,000          369,721             -                        -                        -                        425,688             38,559               -                        2,047,593            1,465,734          378,082               -                          1,843,816            BLACHMAN, JEREMY M248,546             850,000             831,809             -                        -                        -                        272                    84,208               -                        2,014,835            765,313             189,041               -                          954,354               BLAKE JR., NORMAN P-                        -                        -                        (113,784)            -                        -                        -                        1,279                 113,784             1,279                   -                        -                          -                          -                          BOWEN JR, RAYMOND M278,601             1,350,000          974,293             (833)                  -                        -                        1,621                 65,907               -                        2,669,589            -                        252,055               -                          252,055               BROWN, MICHAEL-                        -                        -                        -                        -                        -                        -                        49,288               -                        49,288                 -                        -                          -                          -                          BUCHANAN, HAROLD G248,017             500,000             304,805             -                        -                        -                        1,215                 600                    -                        1,054,637            825,464             189,041               -                          1,014,505            BUTTS, ROBERT H261,516             750,000             175,000             (75,000)              -                        -                        150,656             9,410                 -                        1,271,582            -                        417,619               -                          417,619               BUY, RICHARD B330,546             900,000             769,862             (694,862)            649,584             -                        400,572             -                        -                        2,355,702            2,542,813          901,657               -                          3,444,470            CALGER, CHRISTOPHER F240,189             1,250,000          375,304             (262,500)            -                        -                        486                    35,818               -                        1,639,297            -                        126,027               -                          126,027               CARTER, REBECCA C261,809             300,000             75,000               (159,792)            -                        -                        540                    -                        -                        477,557               -                        307,301               (307,301)              -                          CAUSEY, RICHARD A415,189             1,000,000          350,000             (235,000)            -                        -                        307,895             30,674               -                        1,868,758            -                        2,502,063            -                          2,502,063            CHAN, RONNIE-                        -                        -                        (98,784)              -                        -                        -                        -                        98,784               -                          -                        32,460                 (32,460)                -                          CHRISTODOULOU, DIOMEDES-                        -                        -                        -                        -                        -                        -                        -                        -                        -                          5,127,155          950,730               -                          6,077,885            CLINE, KENNETH W-                        -                        -                        -                        -                        -                        -                        -                        -                        -                          -                        662,086               (472,568)              189,518               COLWELL, WESLEY288,542             1,200,000          -                        (144,062)            27,610               -                        101,740             16,514               -                        1,490,344            -                        698,242               -                          698,242               CORDES, WILLIAM R-                        -                        -                        -                        -                        -                        -                        -                        -                        -                          651,850             386,335               -                          1,038,185            COX, DAVID314,288             800,000             -                        (41,250)              -                        -                        494                    27,861               -                        1,101,393            117,551             378,082               -                          495,633               CUMBERLAND, MICHAEL S184,899             325,000             275,000             -                        -                        -                        713                    22,344               -                        807,956               -                        207,940               -                          207,940               DEFFNER, JOSEPH M206,121             600,000             335,349             -                        -                        -                        25,553               41,626               -                        1,208,649            17,378               141,833               -                          159,211               DELAINEY, DAVID W365,163             3,000,000          1,294,981          -                        -                        -                        1,661                 86,174               -                        4,747,979            2,291,113          1,323,148            -                          3,614,261            DERRICK JR., JAMES V492,375             800,000             484,000             (1,284,000)         -                        -                        7,482                 51,124               -                        550,981               8,831,913          1,787,380            (1,787,380)           8,831,913            DETMERING, TIMOTHY J210,500             425,000             415,657             (775,241)            875,307             -                        1,105                 52,255               -                        1,204,583            2,027,865          315,068               (315,068)              2,027,865            DIETRICH, JANET R250,100             600,000             556,416             -                        -                        -                        473                    3,475                 -                        1,410,464            1,550,019          315,068               -                          1,865,087            DIMICHELE, RICHARD G262,788             1,000,000          694,862             -                        -                        -                        374,689             (h)35,812               -                        2,368,151            8,191,755          126,027               -                          8,317,782            DODSON, KEITH221,003             70,000               -                        -                        -                        -                        774                    28,164               -                        319,941               -                        -                          -                          -                          DONAHUE JR, JEFFREY M278,601             800,000             -                        (300,000)            -                        -                        891                    96,268               -                        875,760               765,920             315,068               -                          1,080,988            DUNCAN, JOHN H-                        -                        -                        (25,000)              -                        -                        -                        -                        102,492             77,492                 371,750             -                          -                          371,750               DURAN, WILLIAM D210,692             750,000             1,105,218          -                        -                        -                        1,568                 25,785               -                        2,093,263            1,451,869          189,041               -                          1,640,910            Page 1 of 5\n"
     ]
    }
   ],
   "source": [
    "print(pageObj.extractText())"
   ]
  },
  {
   "cell_type": "code",
   "execution_count": null,
   "metadata": {},
   "outputs": [],
   "source": []
  }
 ],
 "metadata": {
  "kernelspec": {
   "display_name": "Python 3",
   "language": "python",
   "name": "python3"
  },
  "language_info": {
   "codemirror_mode": {
    "name": "ipython",
    "version": 3
   },
   "file_extension": ".py",
   "mimetype": "text/x-python",
   "name": "python",
   "nbconvert_exporter": "python",
   "pygments_lexer": "ipython3",
   "version": "3.7.4"
  }
 },
 "nbformat": 4,
 "nbformat_minor": 2
}
